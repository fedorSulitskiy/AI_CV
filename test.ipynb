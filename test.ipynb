{
 "cells": [
  {
   "cell_type": "code",
   "execution_count": 4,
   "metadata": {},
   "outputs": [],
   "source": [
    "import openai\n",
    "from data.secret import OPENAI_KEY\n",
    "from langchain.llms import OpenAI"
   ]
  },
  {
   "cell_type": "code",
   "execution_count": 14,
   "metadata": {},
   "outputs": [
    {
     "name": "stdout",
     "output_type": "stream",
     "text": [
      "Using bullet points below, generate 50 word entry to my CV:\n",
      "\n",
      "experienced in python, SQL, Node.js and REST API, software engineering, teamwork\n",
      "Node.js (match)\n",
      "Understanding of common OO design patterns (match)\n",
      "Ability to read/develop clean and self-documented code as part of a team (match)\n",
      "Ability to write clear technical documentation (match)\n"
     ]
    }
   ],
   "source": [
    "f = open('test.txt', 'r')\n",
    "content = f.read()\n",
    "print(content)\n",
    "## set some parameters:\n",
    "\n",
    "model = 'gpt-3.5-turbo'"
   ]
  },
  {
   "cell_type": "code",
   "execution_count": 12,
   "metadata": {},
   "outputs": [],
   "source": [
    "def question(info):\n",
    "\n",
    "  openai.api_key =  OPENAI_KEY\n",
    "\n",
    "  response = openai.ChatCompletion.create(\n",
    "    model=model,\n",
    "    messages=[\n",
    "      {\"role\": \"user\", \"content\": info}\n",
    "    ],\n",
    "    temperature=1,\n",
    "  )\n",
    "\n",
    "  print(response)\n",
    "\n",
    "  return response"
   ]
  },
  {
   "cell_type": "code",
   "execution_count": 15,
   "metadata": {},
   "outputs": [
    {
     "name": "stdout",
     "output_type": "stream",
     "text": [
      "{\n",
      "  \"id\": \"chatcmpl-7XwIjcakptRcs8M50ggWm2COH8y4q\",\n",
      "  \"object\": \"chat.completion\",\n",
      "  \"created\": 1688323289,\n",
      "  \"model\": \"gpt-3.5-turbo-0613\",\n",
      "  \"choices\": [\n",
      "    {\n",
      "      \"index\": 0,\n",
      "      \"message\": {\n",
      "        \"role\": \"assistant\",\n",
      "        \"content\": \"Experienced in python, SQL, Node.js, and REST API development with a strong background in software engineering. Proficient in Node.js and understanding of common object-oriented design patterns. Skilled in reading and developing clean, self-documented code as part of a collaborative team. Demonstrated ability to write clear technical documentation.\"\n",
      "      },\n",
      "      \"finish_reason\": \"stop\"\n",
      "    }\n",
      "  ],\n",
      "  \"usage\": {\n",
      "    \"prompt_tokens\": 81,\n",
      "    \"completion_tokens\": 64,\n",
      "    \"total_tokens\": 145\n",
      "  }\n",
      "}\n"
     ]
    }
   ],
   "source": [
    "res = question(content)"
   ]
  },
  {
   "cell_type": "code",
   "execution_count": 20,
   "metadata": {},
   "outputs": [
    {
     "data": {
      "text/plain": [
       "<OpenAIObject chat.completion id=chatcmpl-7XwIjcakptRcs8M50ggWm2COH8y4q at 0x1dc3bba31f0> JSON: {\n",
       "  \"id\": \"chatcmpl-7XwIjcakptRcs8M50ggWm2COH8y4q\",\n",
       "  \"object\": \"chat.completion\",\n",
       "  \"created\": 1688323289,\n",
       "  \"model\": \"gpt-3.5-turbo-0613\",\n",
       "  \"choices\": [\n",
       "    {\n",
       "      \"index\": 0,\n",
       "      \"message\": {\n",
       "        \"role\": \"assistant\",\n",
       "        \"content\": \"Experienced in python, SQL, Node.js, and REST API development with a strong background in software engineering. Proficient in Node.js and understanding of common object-oriented design patterns. Skilled in reading and developing clean, self-documented code as part of a collaborative team. Demonstrated ability to write clear technical documentation.\"\n",
       "      },\n",
       "      \"finish_reason\": \"stop\"\n",
       "    }\n",
       "  ],\n",
       "  \"usage\": {\n",
       "    \"prompt_tokens\": 81,\n",
       "    \"completion_tokens\": 64,\n",
       "    \"total_tokens\": 145\n",
       "  }\n",
       "}"
      ]
     },
     "execution_count": 20,
     "metadata": {},
     "output_type": "execute_result"
    }
   ],
   "source": [
    "res"
   ]
  },
  {
   "cell_type": "code",
   "execution_count": 19,
   "metadata": {},
   "outputs": [
    {
     "data": {
      "text/plain": [
       "'Experienced in python, SQL, Node.js, and REST API development with a strong background in software engineering. Proficient in Node.js and understanding of common object-oriented design patterns. Skilled in reading and developing clean, self-documented code as part of a collaborative team. Demonstrated ability to write clear technical documentation.'"
      ]
     },
     "execution_count": 19,
     "metadata": {},
     "output_type": "execute_result"
    }
   ],
   "source": [
    "reply = res.choices[0].message.content"
   ]
  },
  {
   "cell_type": "markdown",
   "metadata": {},
   "source": []
  }
 ],
 "metadata": {
  "kernelspec": {
   "display_name": "internenv",
   "language": "python",
   "name": "python3"
  },
  "language_info": {
   "codemirror_mode": {
    "name": "ipython",
    "version": 3
   },
   "file_extension": ".py",
   "mimetype": "text/x-python",
   "name": "python",
   "nbconvert_exporter": "python",
   "pygments_lexer": "ipython3",
   "version": "3.10.5"
  },
  "orig_nbformat": 4
 },
 "nbformat": 4,
 "nbformat_minor": 2
}
